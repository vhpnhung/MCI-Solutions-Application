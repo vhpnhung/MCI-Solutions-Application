{
 "cells": [
  {
   "cell_type": "code",
   "execution_count": 89,
   "metadata": {},
   "outputs": [],
   "source": [
    "import pandas as pd"
   ]
  },
  {
   "cell_type": "markdown",
   "metadata": {},
   "source": [
    "# Import data"
   ]
  },
  {
   "cell_type": "code",
   "execution_count": 90,
   "metadata": {},
   "outputs": [],
   "source": [
    "order = pd.read_excel('MINI-TEST (MCI SOLUTIONS - DATA ANALYST INTERN).xlsx', sheet_name='ORDERS')\n",
    "product = pd.read_excel('MINI-TEST (MCI SOLUTIONS - DATA ANALYST INTERN).xlsx', sheet_name='PRODUCTS')"
   ]
  },
  {
   "cell_type": "markdown",
   "metadata": {},
   "source": [
    "# EDA\n",
    "## `Products` sheet"
   ]
  },
  {
   "cell_type": "code",
   "execution_count": 91,
   "metadata": {},
   "outputs": [
    {
     "data": {
      "text/html": [
       "<div>\n",
       "<style scoped>\n",
       "    .dataframe tbody tr th:only-of-type {\n",
       "        vertical-align: middle;\n",
       "    }\n",
       "\n",
       "    .dataframe tbody tr th {\n",
       "        vertical-align: top;\n",
       "    }\n",
       "\n",
       "    .dataframe thead th {\n",
       "        text-align: right;\n",
       "    }\n",
       "</style>\n",
       "<table border=\"1\" class=\"dataframe\">\n",
       "  <thead>\n",
       "    <tr style=\"text-align: right;\">\n",
       "      <th></th>\n",
       "      <th>Product ID</th>\n",
       "      <th>Product Line</th>\n",
       "      <th>Product Category</th>\n",
       "      <th>Product Name</th>\n",
       "      <th>Supplier Country</th>\n",
       "    </tr>\n",
       "  </thead>\n",
       "  <tbody>\n",
       "    <tr>\n",
       "      <th>0</th>\n",
       "      <td>210100100001</td>\n",
       "      <td>Children</td>\n",
       "      <td>Children Outdoors</td>\n",
       "      <td>Boy's and Girl's Ski Pants with Braces</td>\n",
       "      <td>NO</td>\n",
       "    </tr>\n",
       "    <tr>\n",
       "      <th>1</th>\n",
       "      <td>210100100002</td>\n",
       "      <td>Children</td>\n",
       "      <td>Children Outdoors</td>\n",
       "      <td>Children's Jacket</td>\n",
       "      <td>ES</td>\n",
       "    </tr>\n",
       "    <tr>\n",
       "      <th>2</th>\n",
       "      <td>210100100003</td>\n",
       "      <td>Children</td>\n",
       "      <td>Children Outdoors</td>\n",
       "      <td>Children's Jacket Sidney</td>\n",
       "      <td>NO</td>\n",
       "    </tr>\n",
       "  </tbody>\n",
       "</table>\n",
       "</div>"
      ],
      "text/plain": [
       "     Product ID Product Line   Product Category  \\\n",
       "0  210100100001     Children  Children Outdoors   \n",
       "1  210100100002     Children  Children Outdoors   \n",
       "2  210100100003     Children  Children Outdoors   \n",
       "\n",
       "                             Product Name Supplier Country  \n",
       "0  Boy's and Girl's Ski Pants with Braces               NO  \n",
       "1                       Children's Jacket               ES  \n",
       "2                Children's Jacket Sidney               NO  "
      ]
     },
     "execution_count": 91,
     "metadata": {},
     "output_type": "execute_result"
    }
   ],
   "source": [
    "product.head(3)"
   ]
  },
  {
   "cell_type": "code",
   "execution_count": 92,
   "metadata": {},
   "outputs": [
    {
     "data": {
      "text/plain": [
       "Product ID          0\n",
       "Product Line        0\n",
       "Product Category    0\n",
       "Product Name        0\n",
       "Supplier Country    0\n",
       "dtype: int64"
      ]
     },
     "execution_count": 92,
     "metadata": {},
     "output_type": "execute_result"
    }
   ],
   "source": [
    "# check null values\n",
    "product.isna().sum()"
   ]
  },
  {
   "cell_type": "code",
   "execution_count": 93,
   "metadata": {},
   "outputs": [
    {
     "data": {
      "text/plain": [
       "0"
      ]
     },
     "execution_count": 93,
     "metadata": {},
     "output_type": "execute_result"
    }
   ],
   "source": [
    "# check duplicates\n",
    "product.duplicated().sum()"
   ]
  },
  {
   "cell_type": "code",
   "execution_count": 94,
   "metadata": {},
   "outputs": [
    {
     "name": "stdout",
     "output_type": "stream",
     "text": [
      "<class 'pandas.core.frame.DataFrame'>\n",
      "RangeIndex: 5504 entries, 0 to 5503\n",
      "Data columns (total 5 columns):\n",
      " #   Column            Non-Null Count  Dtype \n",
      "---  ------            --------------  ----- \n",
      " 0   Product ID        5504 non-null   int64 \n",
      " 1   Product Line      5504 non-null   object\n",
      " 2   Product Category  5504 non-null   object\n",
      " 3   Product Name      5504 non-null   object\n",
      " 4   Supplier Country  5504 non-null   object\n",
      "dtypes: int64(1), object(4)\n",
      "memory usage: 215.1+ KB\n"
     ]
    }
   ],
   "source": [
    "# check data types\n",
    "product.info()"
   ]
  },
  {
   "cell_type": "code",
   "execution_count": 95,
   "metadata": {},
   "outputs": [
    {
     "name": "stdout",
     "output_type": "stream",
     "text": [
      "['Children' 'Clothes & Shoes' 'Outdoors' 'Sports']\n",
      "['Children Outdoors' 'Children Sports' 'Clothes' 'Shoes' 'Outdoors'\n",
      " 'Assorted Sports Articles' 'Golf' 'Indoor Sports' 'Racket Sports'\n",
      " 'Running - Jogging' 'Swim Sports' 'Team Sports' 'Winter Sports']\n",
      "[\"Boy's and Girl's Ski Pants with Braces\" \"Children's Jacket\"\n",
      " \"Children's Jacket Sidney\" ... 'Top Equipe 99 Black'\n",
      " 'Alpine Ski Bag 2-pair Black/Yellow' 'Alpine Ski Bag Black/Yellow']\n",
      "['NO' 'ES' 'US' 'SE' 'FR' 'GB' 'CA' 'NL' 'DK' 'AU' 'PT' 'DE' 'BE']\n"
     ]
    }
   ],
   "source": [
    "# check typos for each column\n",
    "for col in product.columns[1:]:\n",
    "    print(product[col].unique())"
   ]
  },
  {
   "cell_type": "markdown",
   "metadata": {},
   "source": [
    "***Comment: No issue detected in `products` sheet***\n",
    "## `Orders` sheet\n",
    "### Check"
   ]
  },
  {
   "cell_type": "code",
   "execution_count": 96,
   "metadata": {},
   "outputs": [
    {
     "data": {
      "text/html": [
       "<div>\n",
       "<style scoped>\n",
       "    .dataframe tbody tr th:only-of-type {\n",
       "        vertical-align: middle;\n",
       "    }\n",
       "\n",
       "    .dataframe tbody tr th {\n",
       "        vertical-align: top;\n",
       "    }\n",
       "\n",
       "    .dataframe thead th {\n",
       "        text-align: right;\n",
       "    }\n",
       "</style>\n",
       "<table border=\"1\" class=\"dataframe\">\n",
       "  <thead>\n",
       "    <tr style=\"text-align: right;\">\n",
       "      <th></th>\n",
       "      <th>Customer ID</th>\n",
       "      <th>Customer Status</th>\n",
       "      <th>Date Order was placed</th>\n",
       "      <th>Delivery Date</th>\n",
       "      <th>Order ID</th>\n",
       "      <th>Product ID</th>\n",
       "      <th>Quantity Ordered</th>\n",
       "      <th>Total Retail Price for This Order</th>\n",
       "      <th>Cost Price Per Unit</th>\n",
       "    </tr>\n",
       "  </thead>\n",
       "  <tbody>\n",
       "    <tr>\n",
       "      <th>0</th>\n",
       "      <td>579</td>\n",
       "      <td>Silver</td>\n",
       "      <td>2017-01-01</td>\n",
       "      <td>2017-01-07</td>\n",
       "      <td>123002578</td>\n",
       "      <td>220101400106</td>\n",
       "      <td>2</td>\n",
       "      <td>92.6</td>\n",
       "      <td>20.70</td>\n",
       "    </tr>\n",
       "    <tr>\n",
       "      <th>1</th>\n",
       "      <td>7574</td>\n",
       "      <td>SILVER</td>\n",
       "      <td>2017-01-01</td>\n",
       "      <td>2017-01-05</td>\n",
       "      <td>123004074</td>\n",
       "      <td>210201000009</td>\n",
       "      <td>1</td>\n",
       "      <td>21.7</td>\n",
       "      <td>9.95</td>\n",
       "    </tr>\n",
       "    <tr>\n",
       "      <th>2</th>\n",
       "      <td>28861</td>\n",
       "      <td>Gold</td>\n",
       "      <td>2017-01-01</td>\n",
       "      <td>2017-01-04</td>\n",
       "      <td>123000871</td>\n",
       "      <td>230100500068</td>\n",
       "      <td>1</td>\n",
       "      <td>1.7</td>\n",
       "      <td>0.80</td>\n",
       "    </tr>\n",
       "  </tbody>\n",
       "</table>\n",
       "</div>"
      ],
      "text/plain": [
       "   Customer ID Customer Status Date Order was placed Delivery Date   Order ID  \\\n",
       "0          579          Silver            2017-01-01    2017-01-07  123002578   \n",
       "1         7574          SILVER            2017-01-01    2017-01-05  123004074   \n",
       "2        28861            Gold            2017-01-01    2017-01-04  123000871   \n",
       "\n",
       "     Product ID  Quantity Ordered  Total Retail Price for This Order  \\\n",
       "0  220101400106                 2                               92.6   \n",
       "1  210201000009                 1                               21.7   \n",
       "2  230100500068                 1                                1.7   \n",
       "\n",
       "   Cost Price Per Unit  \n",
       "0                20.70  \n",
       "1                 9.95  \n",
       "2                 0.80  "
      ]
     },
     "execution_count": 96,
     "metadata": {},
     "output_type": "execute_result"
    }
   ],
   "source": [
    "order.head(3)"
   ]
  },
  {
   "cell_type": "code",
   "execution_count": 97,
   "metadata": {},
   "outputs": [
    {
     "data": {
      "text/plain": [
       "Customer ID                          0\n",
       "Customer Status                      0\n",
       "Date Order was placed                0\n",
       "Delivery Date                        0\n",
       "Order ID                             0\n",
       "Product ID                           0\n",
       "Quantity Ordered                     0\n",
       "Total Retail Price for This Order    0\n",
       "Cost Price Per Unit                  0\n",
       "dtype: int64"
      ]
     },
     "execution_count": 97,
     "metadata": {},
     "output_type": "execute_result"
    }
   ],
   "source": [
    "# check null values\n",
    "order.isna().sum()"
   ]
  },
  {
   "cell_type": "code",
   "execution_count": 98,
   "metadata": {},
   "outputs": [
    {
     "data": {
      "text/plain": [
       "0"
      ]
     },
     "execution_count": 98,
     "metadata": {},
     "output_type": "execute_result"
    }
   ],
   "source": [
    "# check duplicates\n",
    "order.duplicated().sum()"
   ]
  },
  {
   "cell_type": "code",
   "execution_count": 99,
   "metadata": {},
   "outputs": [
    {
     "name": "stdout",
     "output_type": "stream",
     "text": [
      "<class 'pandas.core.frame.DataFrame'>\n",
      "RangeIndex: 14999 entries, 0 to 14998\n",
      "Data columns (total 9 columns):\n",
      " #   Column                             Non-Null Count  Dtype         \n",
      "---  ------                             --------------  -----         \n",
      " 0   Customer ID                        14999 non-null  int64         \n",
      " 1   Customer Status                    14999 non-null  object        \n",
      " 2   Date Order was placed              14999 non-null  datetime64[ns]\n",
      " 3   Delivery Date                      14999 non-null  datetime64[ns]\n",
      " 4   Order ID                           14999 non-null  int64         \n",
      " 5   Product ID                         14999 non-null  int64         \n",
      " 6   Quantity Ordered                   14999 non-null  int64         \n",
      " 7   Total Retail Price for This Order  14999 non-null  float64       \n",
      " 8   Cost Price Per Unit                14999 non-null  float64       \n",
      "dtypes: datetime64[ns](2), float64(2), int64(4), object(1)\n",
      "memory usage: 1.0+ MB\n"
     ]
    }
   ],
   "source": [
    "# check data types\n",
    "order.info()"
   ]
  },
  {
   "cell_type": "code",
   "execution_count": 100,
   "metadata": {},
   "outputs": [
    {
     "data": {
      "text/plain": [
       "Order ID\n",
       "123000000    1\n",
       "123068005    1\n",
       "123068011    1\n",
       "123068015    1\n",
       "123068025    1\n",
       "            ..\n",
       "123033902    1\n",
       "123033916    1\n",
       "123033924    1\n",
       "123033853    1\n",
       "123123070    1\n",
       "Name: Product ID, Length: 14999, dtype: int64"
      ]
     },
     "execution_count": 100,
     "metadata": {},
     "output_type": "execute_result"
    }
   ],
   "source": [
    "order.groupby(['Order ID'])['Product ID'].count().sort_values()"
   ]
  },
  {
   "cell_type": "markdown",
   "metadata": {},
   "source": [
    "***Comment:***\n",
    "* No null and duplicated values\n",
    "* `Customer Status` column needs revision in terms of capitalization\n",
    "* Some columns should be renamed\n",
    "* As each order only has one product, so $Price Per Unit = Total Retail Price For This Order / Quantity$\n",
    "* Add time to deliver column as the subtraction of Order and Delivery date\n",
    "### Process"
   ]
  },
  {
   "cell_type": "code",
   "execution_count": 101,
   "metadata": {},
   "outputs": [
    {
     "data": {
      "text/plain": [
       "array(['Silver', 'Gold', 'Platinum'], dtype=object)"
      ]
     },
     "execution_count": 101,
     "metadata": {},
     "output_type": "execute_result"
    }
   ],
   "source": [
    "# Capitalize\n",
    "order['Customer Status'] = order['Customer Status'].str.capitalize()\n",
    "order['Customer Status'].unique()"
   ]
  },
  {
   "cell_type": "code",
   "execution_count": 102,
   "metadata": {},
   "outputs": [
    {
     "data": {
      "text/html": [
       "<div>\n",
       "<style scoped>\n",
       "    .dataframe tbody tr th:only-of-type {\n",
       "        vertical-align: middle;\n",
       "    }\n",
       "\n",
       "    .dataframe tbody tr th {\n",
       "        vertical-align: top;\n",
       "    }\n",
       "\n",
       "    .dataframe thead th {\n",
       "        text-align: right;\n",
       "    }\n",
       "</style>\n",
       "<table border=\"1\" class=\"dataframe\">\n",
       "  <thead>\n",
       "    <tr style=\"text-align: right;\">\n",
       "      <th></th>\n",
       "      <th>Customer ID</th>\n",
       "      <th>Customer Status</th>\n",
       "      <th>Order Date</th>\n",
       "      <th>Delivery Date</th>\n",
       "      <th>Order ID</th>\n",
       "      <th>Product ID</th>\n",
       "      <th>Quantity Ordered</th>\n",
       "      <th>Total Revenue</th>\n",
       "      <th>Cost per unit</th>\n",
       "    </tr>\n",
       "  </thead>\n",
       "  <tbody>\n",
       "    <tr>\n",
       "      <th>0</th>\n",
       "      <td>579</td>\n",
       "      <td>Silver</td>\n",
       "      <td>2017-01-01</td>\n",
       "      <td>2017-01-07</td>\n",
       "      <td>123002578</td>\n",
       "      <td>220101400106</td>\n",
       "      <td>2</td>\n",
       "      <td>92.6</td>\n",
       "      <td>20.70</td>\n",
       "    </tr>\n",
       "    <tr>\n",
       "      <th>1</th>\n",
       "      <td>7574</td>\n",
       "      <td>Silver</td>\n",
       "      <td>2017-01-01</td>\n",
       "      <td>2017-01-05</td>\n",
       "      <td>123004074</td>\n",
       "      <td>210201000009</td>\n",
       "      <td>1</td>\n",
       "      <td>21.7</td>\n",
       "      <td>9.95</td>\n",
       "    </tr>\n",
       "    <tr>\n",
       "      <th>2</th>\n",
       "      <td>28861</td>\n",
       "      <td>Gold</td>\n",
       "      <td>2017-01-01</td>\n",
       "      <td>2017-01-04</td>\n",
       "      <td>123000871</td>\n",
       "      <td>230100500068</td>\n",
       "      <td>1</td>\n",
       "      <td>1.7</td>\n",
       "      <td>0.80</td>\n",
       "    </tr>\n",
       "  </tbody>\n",
       "</table>\n",
       "</div>"
      ],
      "text/plain": [
       "   Customer ID Customer Status Order Date Delivery Date   Order ID  \\\n",
       "0          579          Silver 2017-01-01    2017-01-07  123002578   \n",
       "1         7574          Silver 2017-01-01    2017-01-05  123004074   \n",
       "2        28861            Gold 2017-01-01    2017-01-04  123000871   \n",
       "\n",
       "     Product ID  Quantity Ordered  Total Revenue  Cost per unit  \n",
       "0  220101400106                 2           92.6          20.70  \n",
       "1  210201000009                 1           21.7           9.95  \n",
       "2  230100500068                 1            1.7           0.80  "
      ]
     },
     "execution_count": 102,
     "metadata": {},
     "output_type": "execute_result"
    }
   ],
   "source": [
    "# Rename column\n",
    "order.rename({'Total Retail Price for This Order': 'Total Revenue',\n",
    "              'Cost Price Per Unit': 'Cost per unit',\n",
    "              'Date Order was placed': 'Order Date'}\n",
    "             , axis=1\n",
    "             , inplace=True)\n",
    "\n",
    "order.head(3)"
   ]
  },
  {
   "cell_type": "code",
   "execution_count": 103,
   "metadata": {},
   "outputs": [
    {
     "data": {
      "text/html": [
       "<div>\n",
       "<style scoped>\n",
       "    .dataframe tbody tr th:only-of-type {\n",
       "        vertical-align: middle;\n",
       "    }\n",
       "\n",
       "    .dataframe tbody tr th {\n",
       "        vertical-align: top;\n",
       "    }\n",
       "\n",
       "    .dataframe thead th {\n",
       "        text-align: right;\n",
       "    }\n",
       "</style>\n",
       "<table border=\"1\" class=\"dataframe\">\n",
       "  <thead>\n",
       "    <tr style=\"text-align: right;\">\n",
       "      <th></th>\n",
       "      <th>Customer ID</th>\n",
       "      <th>Customer Status</th>\n",
       "      <th>Order Date</th>\n",
       "      <th>Delivery Date</th>\n",
       "      <th>Order ID</th>\n",
       "      <th>Product ID</th>\n",
       "      <th>Quantity Ordered</th>\n",
       "      <th>Total Revenue</th>\n",
       "      <th>Cost per unit</th>\n",
       "      <th>Price per unit</th>\n",
       "      <th>COGS</th>\n",
       "      <th>Total Profit</th>\n",
       "    </tr>\n",
       "  </thead>\n",
       "  <tbody>\n",
       "    <tr>\n",
       "      <th>0</th>\n",
       "      <td>579</td>\n",
       "      <td>Silver</td>\n",
       "      <td>2017-01-01</td>\n",
       "      <td>2017-01-07</td>\n",
       "      <td>123002578</td>\n",
       "      <td>220101400106</td>\n",
       "      <td>2</td>\n",
       "      <td>92.6</td>\n",
       "      <td>20.70</td>\n",
       "      <td>46.0</td>\n",
       "      <td>41.40</td>\n",
       "      <td>51.20</td>\n",
       "    </tr>\n",
       "    <tr>\n",
       "      <th>1</th>\n",
       "      <td>7574</td>\n",
       "      <td>Silver</td>\n",
       "      <td>2017-01-01</td>\n",
       "      <td>2017-01-05</td>\n",
       "      <td>123004074</td>\n",
       "      <td>210201000009</td>\n",
       "      <td>1</td>\n",
       "      <td>21.7</td>\n",
       "      <td>9.95</td>\n",
       "      <td>22.0</td>\n",
       "      <td>9.95</td>\n",
       "      <td>11.75</td>\n",
       "    </tr>\n",
       "    <tr>\n",
       "      <th>2</th>\n",
       "      <td>28861</td>\n",
       "      <td>Gold</td>\n",
       "      <td>2017-01-01</td>\n",
       "      <td>2017-01-04</td>\n",
       "      <td>123000871</td>\n",
       "      <td>230100500068</td>\n",
       "      <td>1</td>\n",
       "      <td>1.7</td>\n",
       "      <td>0.80</td>\n",
       "      <td>2.0</td>\n",
       "      <td>0.80</td>\n",
       "      <td>0.90</td>\n",
       "    </tr>\n",
       "  </tbody>\n",
       "</table>\n",
       "</div>"
      ],
      "text/plain": [
       "   Customer ID Customer Status Order Date Delivery Date   Order ID  \\\n",
       "0          579          Silver 2017-01-01    2017-01-07  123002578   \n",
       "1         7574          Silver 2017-01-01    2017-01-05  123004074   \n",
       "2        28861            Gold 2017-01-01    2017-01-04  123000871   \n",
       "\n",
       "     Product ID  Quantity Ordered  Total Revenue  Cost per unit  \\\n",
       "0  220101400106                 2           92.6          20.70   \n",
       "1  210201000009                 1           21.7           9.95   \n",
       "2  230100500068                 1            1.7           0.80   \n",
       "\n",
       "   Price per unit   COGS  Total Profit  \n",
       "0            46.0  41.40         51.20  \n",
       "1            22.0   9.95         11.75  \n",
       "2             2.0   0.80          0.90  "
      ]
     },
     "execution_count": 103,
     "metadata": {},
     "output_type": "execute_result"
    }
   ],
   "source": [
    "order['Price per unit'] = round(order['Total Revenue']/order['Quantity Ordered'])\n",
    "order['COGS'] = order['Cost per unit']*order['Quantity Ordered']\n",
    "order['Total Profit'] = order['Total Revenue']-order['COGS']\n",
    "order.head(3)"
   ]
  },
  {
   "cell_type": "code",
   "execution_count": 104,
   "metadata": {},
   "outputs": [
    {
     "data": {
      "text/html": [
       "<div>\n",
       "<style scoped>\n",
       "    .dataframe tbody tr th:only-of-type {\n",
       "        vertical-align: middle;\n",
       "    }\n",
       "\n",
       "    .dataframe tbody tr th {\n",
       "        vertical-align: top;\n",
       "    }\n",
       "\n",
       "    .dataframe thead th {\n",
       "        text-align: right;\n",
       "    }\n",
       "</style>\n",
       "<table border=\"1\" class=\"dataframe\">\n",
       "  <thead>\n",
       "    <tr style=\"text-align: right;\">\n",
       "      <th></th>\n",
       "      <th>Product ID</th>\n",
       "      <th>min</th>\n",
       "      <th>max</th>\n",
       "    </tr>\n",
       "  </thead>\n",
       "  <tbody>\n",
       "  </tbody>\n",
       "</table>\n",
       "</div>"
      ],
      "text/plain": [
       "Empty DataFrame\n",
       "Columns: [Product ID, min, max]\n",
       "Index: []"
      ]
     },
     "execution_count": 104,
     "metadata": {},
     "output_type": "execute_result"
    }
   ],
   "source": [
    "# check if any discounts applied (so the prices are different from each order)\n",
    "product_price = order.groupby(['Product ID'])['Price per unit'].agg(['min', 'max']).reset_index()\n",
    "product_price[product_price['min'] != product_price['max']]"
   ]
  },
  {
   "cell_type": "code",
   "execution_count": 105,
   "metadata": {},
   "outputs": [
    {
     "data": {
      "text/html": [
       "<div>\n",
       "<style scoped>\n",
       "    .dataframe tbody tr th:only-of-type {\n",
       "        vertical-align: middle;\n",
       "    }\n",
       "\n",
       "    .dataframe tbody tr th {\n",
       "        vertical-align: top;\n",
       "    }\n",
       "\n",
       "    .dataframe thead th {\n",
       "        text-align: right;\n",
       "    }\n",
       "</style>\n",
       "<table border=\"1\" class=\"dataframe\">\n",
       "  <thead>\n",
       "    <tr style=\"text-align: right;\">\n",
       "      <th></th>\n",
       "      <th>Product ID</th>\n",
       "      <th>min</th>\n",
       "      <th>max</th>\n",
       "    </tr>\n",
       "  </thead>\n",
       "  <tbody>\n",
       "  </tbody>\n",
       "</table>\n",
       "</div>"
      ],
      "text/plain": [
       "Empty DataFrame\n",
       "Columns: [Product ID, min, max]\n",
       "Index: []"
      ]
     },
     "execution_count": 105,
     "metadata": {},
     "output_type": "execute_result"
    }
   ],
   "source": [
    "product_Cost = order.groupby(['Product ID'])['Cost per unit'].agg(['min', 'max']).reset_index()\n",
    "product_Cost[product_Cost['min'] != product_Cost['max']]"
   ]
  },
  {
   "cell_type": "markdown",
   "metadata": {},
   "source": [
    "***Now the data is ready***\n",
    "# Export data"
   ]
  },
  {
   "cell_type": "code",
   "execution_count": 106,
   "metadata": {},
   "outputs": [],
   "source": [
    "product.to_excel('Product.xlsx')\n",
    "order.to_excel('Order.xlsx')"
   ]
  }
 ],
 "metadata": {
  "kernelspec": {
   "display_name": "Python 3",
   "language": "python",
   "name": "python3"
  },
  "language_info": {
   "codemirror_mode": {
    "name": "ipython",
    "version": 3
   },
   "file_extension": ".py",
   "mimetype": "text/x-python",
   "name": "python",
   "nbconvert_exporter": "python",
   "pygments_lexer": "ipython3",
   "version": "3.11.4"
  }
 },
 "nbformat": 4,
 "nbformat_minor": 2
}
